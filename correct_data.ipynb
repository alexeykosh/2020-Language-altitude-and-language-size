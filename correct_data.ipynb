{
 "cells": [
  {
   "cell_type": "code",
   "execution_count": 1,
   "metadata": {},
   "outputs": [],
   "source": [
    "import pandas as pd\n",
    "import numpy as np\n",
    "from collections import Counter"
   ]
  },
  {
   "cell_type": "markdown",
   "metadata": {},
   "source": [
    "### Clean families data:"
   ]
  },
  {
   "cell_type": "code",
   "execution_count": 2,
   "metadata": {},
   "outputs": [],
   "source": [
    "families = pd.read_csv('families.csv')"
   ]
  },
  {
   "cell_type": "code",
   "execution_count": 3,
   "metadata": {},
   "outputs": [],
   "source": [
    "families['lang_2_K'] = families['lang_2_K'].str.replace('0', '')\n",
    "families['language_initial'] = families[['lang_1_K', 'lang_2_K']].agg(' '.join, axis=1)\n",
    "families = families.fillna(0)\n",
    "families['lang_2_K.1'] = families['lang_2_K.1'].astype('str')\n",
    "families['lang_2_K.1'] = families['lang_2_K.1'].str.replace('0', '')\n",
    "# families['lang_1_K_new'] = families['lang_1_K_new'].str.replace('0', '')"
   ]
  },
  {
   "cell_type": "code",
   "execution_count": 4,
   "metadata": {},
   "outputs": [],
   "source": [
    "families['language'] = families[['lang_1_K_new', 'lang_2_K.1']].agg(' '.join, axis=1)"
   ]
  },
  {
   "cell_type": "code",
   "execution_count": 5,
   "metadata": {},
   "outputs": [
    {
     "data": {
      "text/html": [
       "<div>\n",
       "<style scoped>\n",
       "    .dataframe tbody tr th:only-of-type {\n",
       "        vertical-align: middle;\n",
       "    }\n",
       "\n",
       "    .dataframe tbody tr th {\n",
       "        vertical-align: top;\n",
       "    }\n",
       "\n",
       "    .dataframe thead th {\n",
       "        text-align: right;\n",
       "    }\n",
       "</style>\n",
       "<table border=\"1\" class=\"dataframe\">\n",
       "  <thead>\n",
       "    <tr style=\"text-align: right;\">\n",
       "      <th></th>\n",
       "      <th>Unnamed: 0</th>\n",
       "      <th>lang_1_K</th>\n",
       "      <th>lang_2_K</th>\n",
       "      <th>Family</th>\n",
       "      <th>lang_1_K_new</th>\n",
       "      <th>lang_2_K.1</th>\n",
       "      <th>вябг1ахъахъиб</th>\n",
       "      <th>0,1218255419</th>\n",
       "      <th>language_initial</th>\n",
       "      <th>language</th>\n",
       "    </tr>\n",
       "  </thead>\n",
       "  <tbody>\n",
       "    <tr>\n",
       "      <th>0</th>\n",
       "      <td>0</td>\n",
       "      <td>Tindi</td>\n",
       "      <td></td>\n",
       "      <td>Andic</td>\n",
       "      <td>Tindi</td>\n",
       "      <td></td>\n",
       "      <td>берц1ахъахъиб</td>\n",
       "      <td>0,7202347159</td>\n",
       "      <td>Tindi</td>\n",
       "      <td>Tindi</td>\n",
       "    </tr>\n",
       "    <tr>\n",
       "      <th>1</th>\n",
       "      <td>1</td>\n",
       "      <td>Kumyk</td>\n",
       "      <td></td>\n",
       "      <td>Turkic</td>\n",
       "      <td>Kumyk</td>\n",
       "      <td></td>\n",
       "      <td>вярг1яхъахъиб</td>\n",
       "      <td>0,002449497695</td>\n",
       "      <td>Kumyk</td>\n",
       "      <td>Kumyk</td>\n",
       "    </tr>\n",
       "  </tbody>\n",
       "</table>\n",
       "</div>"
      ],
      "text/plain": [
       "   Unnamed: 0 lang_1_K lang_2_K  Family lang_1_K_new lang_2_K.1  \\\n",
       "0           0    Tindi            Andic        Tindi              \n",
       "1           1    Kumyk           Turkic        Kumyk              \n",
       "\n",
       "   вябг1ахъахъиб    0,1218255419 language_initial language  \n",
       "0  берц1ахъахъиб    0,7202347159           Tindi    Tindi   \n",
       "1  вярг1яхъахъиб  0,002449497695           Kumyk    Kumyk   "
      ]
     },
     "execution_count": 5,
     "metadata": {},
     "output_type": "execute_result"
    }
   ],
   "source": [
    "families.head(2)"
   ]
  },
  {
   "cell_type": "code",
   "execution_count": 6,
   "metadata": {},
   "outputs": [],
   "source": [
    "families = families[['Family', 'language_initial', 'language']]"
   ]
  },
  {
   "cell_type": "markdown",
   "metadata": {},
   "source": [
    "### Add new info to Garik's data"
   ]
  },
  {
   "cell_type": "code",
   "execution_count": 8,
   "metadata": {},
   "outputs": [
    {
     "data": {
      "text/plain": [
       "(3173, 23)"
      ]
     },
     "execution_count": 8,
     "metadata": {},
     "output_type": "execute_result"
    }
   ],
   "source": [
    "data_initial = pd.read_csv('annotate_kutans.csv')\n",
    "data_initial.shape"
   ]
  },
  {
   "cell_type": "markdown",
   "metadata": {},
   "source": [
    "Only matching:"
   ]
  },
  {
   "cell_type": "code",
   "execution_count": 9,
   "metadata": {},
   "outputs": [],
   "source": [
    "data_initial = data_initial[data_initial['same_languages'] == True]\n",
    "data_initial['lang_2_K'] = data_initial['lang_2_K'].astype('str')\n",
    "data_initial['lang_1_K'] = data_initial['lang_1_K'].astype('str')\n",
    "# data_initial['lang_2_K'] = data_initial['lang_2_K'].fillna(0)\n",
    "data_initial['lang_2_K'] = data_initial['lang_2_K'].str.replace('nan', '')\n",
    "# data_initial['lang_1_K'] = data_initial['lang_1_K'].fillna(0)\n",
    "data_initial['lang_1_K'] = data_initial['lang_1_K'].str.replace('nan', '')\n",
    "data_initial['language_initial'] = data_initial[['lang_1_K', 'lang_2_K']].agg(' '.join, axis=1)"
   ]
  },
  {
   "cell_type": "code",
   "execution_count": 10,
   "metadata": {},
   "outputs": [
    {
     "data": {
      "text/plain": [
       "11                           Avar \n",
       "12                          Kumyk \n",
       "13                          Kumyk \n",
       "14                       Chamalal \n",
       "16                       Chamalal \n",
       "                   ...            \n",
       "2163                      Lezgian \n",
       "2166                        Kumyk \n",
       "2170                    Tabasaran \n",
       "2171    Aghul агульский собственно\n",
       "2172                      Lezgian \n",
       "Name: language_initial, Length: 1008, dtype: object"
      ]
     },
     "execution_count": 10,
     "metadata": {},
     "output_type": "execute_result"
    }
   ],
   "source": [
    "data_initial['language_initial']"
   ]
  },
  {
   "cell_type": "code",
   "execution_count": 11,
   "metadata": {},
   "outputs": [
    {
     "data": {
      "text/plain": [
       "{'Chechen ',\n",
       " 'Dargwa амузг.-шир.',\n",
       " 'Dargwa санжинский',\n",
       " 'Dargwa чахр.-сан.',\n",
       " 'Dargwa шаринский',\n",
       " 'Muslim Tat ',\n",
       " 'Nogai ',\n",
       " 'Russian ',\n",
       " 'тат+ ',\n",
       " 'тат. + азер. '}"
      ]
     },
     "execution_count": 11,
     "metadata": {},
     "output_type": "execute_result"
    }
   ],
   "source": [
    "set(families['language_initial'].unique()) - set(data_initial['language_initial'].unique())"
   ]
  },
  {
   "cell_type": "code",
   "execution_count": 12,
   "metadata": {},
   "outputs": [],
   "source": [
    "data_initial = data_initial.set_index('language_initial').join(families.set_index('language_initial'))"
   ]
  },
  {
   "cell_type": "code",
   "execution_count": 13,
   "metadata": {},
   "outputs": [],
   "source": [
    "data_initial = data_initial.dropna(subset=['language'])"
   ]
  },
  {
   "cell_type": "code",
   "execution_count": 15,
   "metadata": {},
   "outputs": [],
   "source": [
    "data_initial = data_initial[data_initial['kutans'] == 'not_kutan']"
   ]
  },
  {
   "cell_type": "code",
   "execution_count": 16,
   "metadata": {},
   "outputs": [
    {
     "data": {
      "text/plain": [
       "(1003, 25)"
      ]
     },
     "execution_count": 16,
     "metadata": {},
     "output_type": "execute_result"
    }
   ],
   "source": [
    "data_initial.shape"
   ]
  },
  {
   "cell_type": "code",
   "execution_count": 18,
   "metadata": {},
   "outputs": [],
   "source": [
    "data_initial.reset_index().to_csv('elevation_villages_correct.csv')"
   ]
  },
  {
   "cell_type": "markdown",
   "metadata": {},
   "source": [
    "### Coordinates to ITM data\n",
    "#### NB: NO Hinuq for now"
   ]
  },
  {
   "cell_type": "code",
   "execution_count": 93,
   "metadata": {},
   "outputs": [],
   "source": [
    "# data_initial = pd.read_csv('merged_all_census_and_samira.csv')\n",
    "# coords = data_initial[['eng_vil_name', 'Lat', 'Lon', 'Family']].dropna()\n",
    "# coords.to_csv('coordinates.csv')"
   ]
  },
  {
   "cell_type": "code",
   "execution_count": 67,
   "metadata": {},
   "outputs": [],
   "source": [
    "coords = pd.read_csv('elevation_corrected.csv').dropna()"
   ]
  },
  {
   "cell_type": "code",
   "execution_count": 71,
   "metadata": {},
   "outputs": [],
   "source": [
    "coords = coords[['eng_vil_name', 'Lat', 'Lon']]"
   ]
  },
  {
   "cell_type": "code",
   "execution_count": 97,
   "metadata": {},
   "outputs": [],
   "source": [
    "itm = pd.read_csv('ITM.csv')"
   ]
  },
  {
   "cell_type": "code",
   "execution_count": 98,
   "metadata": {},
   "outputs": [],
   "source": [
    "itm = itm.set_index('residence').join(coords.set_index('eng_vil_name')).reset_index()"
   ]
  },
  {
   "cell_type": "code",
   "execution_count": 102,
   "metadata": {},
   "outputs": [],
   "source": [
    "# itm[itm['Lat'].isna()].groupby('index').mean()\n",
    "\n",
    "# itm.to_csv('itm_coords_Family.csv')"
   ]
  },
  {
   "cell_type": "code",
   "execution_count": 76,
   "metadata": {},
   "outputs": [],
   "source": [
    "itm.to_csv('itm_coords_no_Hinuq.csv')"
   ]
  }
 ],
 "metadata": {
  "kernelspec": {
   "display_name": "Python 3",
   "language": "python",
   "name": "python3"
  },
  "language_info": {
   "codemirror_mode": {
    "name": "ipython",
    "version": 3
   },
   "file_extension": ".py",
   "mimetype": "text/x-python",
   "name": "python",
   "nbconvert_exporter": "python",
   "pygments_lexer": "ipython3",
   "version": "3.8.1"
  }
 },
 "nbformat": 4,
 "nbformat_minor": 4
}
